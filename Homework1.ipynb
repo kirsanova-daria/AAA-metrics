{
  "cells": [
    {
      "cell_type": "markdown",
      "metadata": {
        "id": "bav7Px1IZRCN"
      },
      "source": [
        "## Retention Years"
      ]
    },
    {
      "cell_type": "code",
      "execution_count": 148,
      "metadata": {
        "id": "ecMmUmcvZRCO"
      },
      "outputs": [],
      "source": [
        "df_orders = pd.read_csv('/content/orders.csv')\n",
        "df_orders['order_month'] = df_orders['order_date'].apply(lambda x: x[0:7])\n",
        "df_orders['order_year'] = df_orders['order_date'].apply(lambda x: x[0:4]).astype(int)\n",
        "#df_orders['month'] = df_orders['order_date'].apply(lambda x: x[5:7])\n"
      ]
    },
    {
      "cell_type": "code",
      "execution_count": 137,
      "metadata": {
        "id": "WOiPx0UnZRCO"
      },
      "outputs": [],
      "source": [
        "df_customers = pd.read_csv('/content/customers.csv')\n",
        "cols = ['customer_id']\n",
        "cols.extend(df_customers.columns[1:])\n",
        "df_customers.columns = cols"
      ]
    },
    {
      "cell_type": "code",
      "execution_count": 149,
      "metadata": {
        "id": "YLfFiRpfZRCQ"
      },
      "outputs": [],
      "source": [
        "df_merge = pd.merge(df_orders, df_customers, 'inner', on='customer_id')"
      ]
    },
    {
      "cell_type": "code",
      "source": [
        "df_first = df_merge.groupby('customer_id')['order_year'].min().reset_index()\n",
        "df_first.columns = ['customer_id', 'first_order']"
      ],
      "metadata": {
        "id": "SaCLUZm3R1If"
      },
      "execution_count": 150,
      "outputs": []
    },
    {
      "cell_type": "code",
      "source": [],
      "metadata": {
        "id": "UEM2hiNuT7Rh"
      },
      "execution_count": null,
      "outputs": []
    },
    {
      "cell_type": "code",
      "source": [
        "df_full = pd.merge(df_merge, df_first, 'inner', on='customer_id')"
      ],
      "metadata": {
        "id": "37ffDwh3R30c"
      },
      "execution_count": 151,
      "outputs": []
    },
    {
      "cell_type": "code",
      "source": [
        "df_users = df_full.groupby(['customer_id', 'first_order', 'order_year', 'ship_mode', 'segment'])\\\n",
        "    .agg({'sales':'sum', 'id':'count'}).reset_index()"
      ],
      "metadata": {
        "id": "Vm8coPJcR7f4"
      },
      "execution_count": 152,
      "outputs": []
    },
    {
      "cell_type": "code",
      "source": [
        "df_users"
      ],
      "metadata": {
        "colab": {
          "base_uri": "https://localhost:8080/",
          "height": 419
        },
        "id": "ck-WbunIT2u9",
        "outputId": "c780bb95-753f-4860-fd9e-19206affe8fc"
      },
      "execution_count": 162,
      "outputs": [
        {
          "output_type": "execute_result",
          "data": {
            "text/plain": [
              "     customer_id  first_order  order_year ship_mode   segment     sales  id\n",
              "0       AA-10315         2014        2014  Standard  Consumer   756.048   2\n",
              "1       AA-10315         2014        2015     First  Consumer    26.960   1\n",
              "2       AA-10315         2014        2016  Standard  Consumer  4406.072   1\n",
              "3       AA-10315         2014        2017  Standard  Consumer   374.480   1\n",
              "4       AA-10375         2014        2014  Standard  Consumer    50.792   2\n",
              "...          ...          ...         ...       ...       ...       ...  ..\n",
              "3680    ZC-21910         2014        2017  Standard  Consumer   183.146   3\n",
              "3681    ZD-21925         2014        2014    Second  Consumer   244.760   1\n",
              "3682    ZD-21925         2014        2016  Same Day  Consumer   839.944   1\n",
              "3683    ZD-21925         2014        2016  Standard  Consumer   347.800   2\n",
              "3684    ZD-21925         2014        2017     First  Consumer    61.440   1\n",
              "\n",
              "[3685 rows x 7 columns]"
            ],
            "text/html": [
              "\n",
              "  <div id=\"df-19fb406b-7a5d-4b48-8d4d-fbcfc713aca7\">\n",
              "    <div class=\"colab-df-container\">\n",
              "      <div>\n",
              "<style scoped>\n",
              "    .dataframe tbody tr th:only-of-type {\n",
              "        vertical-align: middle;\n",
              "    }\n",
              "\n",
              "    .dataframe tbody tr th {\n",
              "        vertical-align: top;\n",
              "    }\n",
              "\n",
              "    .dataframe thead th {\n",
              "        text-align: right;\n",
              "    }\n",
              "</style>\n",
              "<table border=\"1\" class=\"dataframe\">\n",
              "  <thead>\n",
              "    <tr style=\"text-align: right;\">\n",
              "      <th></th>\n",
              "      <th>customer_id</th>\n",
              "      <th>first_order</th>\n",
              "      <th>order_year</th>\n",
              "      <th>ship_mode</th>\n",
              "      <th>segment</th>\n",
              "      <th>sales</th>\n",
              "      <th>id</th>\n",
              "    </tr>\n",
              "  </thead>\n",
              "  <tbody>\n",
              "    <tr>\n",
              "      <th>0</th>\n",
              "      <td>AA-10315</td>\n",
              "      <td>2014</td>\n",
              "      <td>2014</td>\n",
              "      <td>Standard</td>\n",
              "      <td>Consumer</td>\n",
              "      <td>756.048</td>\n",
              "      <td>2</td>\n",
              "    </tr>\n",
              "    <tr>\n",
              "      <th>1</th>\n",
              "      <td>AA-10315</td>\n",
              "      <td>2014</td>\n",
              "      <td>2015</td>\n",
              "      <td>First</td>\n",
              "      <td>Consumer</td>\n",
              "      <td>26.960</td>\n",
              "      <td>1</td>\n",
              "    </tr>\n",
              "    <tr>\n",
              "      <th>2</th>\n",
              "      <td>AA-10315</td>\n",
              "      <td>2014</td>\n",
              "      <td>2016</td>\n",
              "      <td>Standard</td>\n",
              "      <td>Consumer</td>\n",
              "      <td>4406.072</td>\n",
              "      <td>1</td>\n",
              "    </tr>\n",
              "    <tr>\n",
              "      <th>3</th>\n",
              "      <td>AA-10315</td>\n",
              "      <td>2014</td>\n",
              "      <td>2017</td>\n",
              "      <td>Standard</td>\n",
              "      <td>Consumer</td>\n",
              "      <td>374.480</td>\n",
              "      <td>1</td>\n",
              "    </tr>\n",
              "    <tr>\n",
              "      <th>4</th>\n",
              "      <td>AA-10375</td>\n",
              "      <td>2014</td>\n",
              "      <td>2014</td>\n",
              "      <td>Standard</td>\n",
              "      <td>Consumer</td>\n",
              "      <td>50.792</td>\n",
              "      <td>2</td>\n",
              "    </tr>\n",
              "    <tr>\n",
              "      <th>...</th>\n",
              "      <td>...</td>\n",
              "      <td>...</td>\n",
              "      <td>...</td>\n",
              "      <td>...</td>\n",
              "      <td>...</td>\n",
              "      <td>...</td>\n",
              "      <td>...</td>\n",
              "    </tr>\n",
              "    <tr>\n",
              "      <th>3680</th>\n",
              "      <td>ZC-21910</td>\n",
              "      <td>2014</td>\n",
              "      <td>2017</td>\n",
              "      <td>Standard</td>\n",
              "      <td>Consumer</td>\n",
              "      <td>183.146</td>\n",
              "      <td>3</td>\n",
              "    </tr>\n",
              "    <tr>\n",
              "      <th>3681</th>\n",
              "      <td>ZD-21925</td>\n",
              "      <td>2014</td>\n",
              "      <td>2014</td>\n",
              "      <td>Second</td>\n",
              "      <td>Consumer</td>\n",
              "      <td>244.760</td>\n",
              "      <td>1</td>\n",
              "    </tr>\n",
              "    <tr>\n",
              "      <th>3682</th>\n",
              "      <td>ZD-21925</td>\n",
              "      <td>2014</td>\n",
              "      <td>2016</td>\n",
              "      <td>Same Day</td>\n",
              "      <td>Consumer</td>\n",
              "      <td>839.944</td>\n",
              "      <td>1</td>\n",
              "    </tr>\n",
              "    <tr>\n",
              "      <th>3683</th>\n",
              "      <td>ZD-21925</td>\n",
              "      <td>2014</td>\n",
              "      <td>2016</td>\n",
              "      <td>Standard</td>\n",
              "      <td>Consumer</td>\n",
              "      <td>347.800</td>\n",
              "      <td>2</td>\n",
              "    </tr>\n",
              "    <tr>\n",
              "      <th>3684</th>\n",
              "      <td>ZD-21925</td>\n",
              "      <td>2014</td>\n",
              "      <td>2017</td>\n",
              "      <td>First</td>\n",
              "      <td>Consumer</td>\n",
              "      <td>61.440</td>\n",
              "      <td>1</td>\n",
              "    </tr>\n",
              "  </tbody>\n",
              "</table>\n",
              "<p>3685 rows × 7 columns</p>\n",
              "</div>\n",
              "      <button class=\"colab-df-convert\" onclick=\"convertToInteractive('df-19fb406b-7a5d-4b48-8d4d-fbcfc713aca7')\"\n",
              "              title=\"Convert this dataframe to an interactive table.\"\n",
              "              style=\"display:none;\">\n",
              "        \n",
              "  <svg xmlns=\"http://www.w3.org/2000/svg\" height=\"24px\"viewBox=\"0 0 24 24\"\n",
              "       width=\"24px\">\n",
              "    <path d=\"M0 0h24v24H0V0z\" fill=\"none\"/>\n",
              "    <path d=\"M18.56 5.44l.94 2.06.94-2.06 2.06-.94-2.06-.94-.94-2.06-.94 2.06-2.06.94zm-11 1L8.5 8.5l.94-2.06 2.06-.94-2.06-.94L8.5 2.5l-.94 2.06-2.06.94zm10 10l.94 2.06.94-2.06 2.06-.94-2.06-.94-.94-2.06-.94 2.06-2.06.94z\"/><path d=\"M17.41 7.96l-1.37-1.37c-.4-.4-.92-.59-1.43-.59-.52 0-1.04.2-1.43.59L10.3 9.45l-7.72 7.72c-.78.78-.78 2.05 0 2.83L4 21.41c.39.39.9.59 1.41.59.51 0 1.02-.2 1.41-.59l7.78-7.78 2.81-2.81c.8-.78.8-2.07 0-2.86zM5.41 20L4 18.59l7.72-7.72 1.47 1.35L5.41 20z\"/>\n",
              "  </svg>\n",
              "      </button>\n",
              "      \n",
              "  <style>\n",
              "    .colab-df-container {\n",
              "      display:flex;\n",
              "      flex-wrap:wrap;\n",
              "      gap: 12px;\n",
              "    }\n",
              "\n",
              "    .colab-df-convert {\n",
              "      background-color: #E8F0FE;\n",
              "      border: none;\n",
              "      border-radius: 50%;\n",
              "      cursor: pointer;\n",
              "      display: none;\n",
              "      fill: #1967D2;\n",
              "      height: 32px;\n",
              "      padding: 0 0 0 0;\n",
              "      width: 32px;\n",
              "    }\n",
              "\n",
              "    .colab-df-convert:hover {\n",
              "      background-color: #E2EBFA;\n",
              "      box-shadow: 0px 1px 2px rgba(60, 64, 67, 0.3), 0px 1px 3px 1px rgba(60, 64, 67, 0.15);\n",
              "      fill: #174EA6;\n",
              "    }\n",
              "\n",
              "    [theme=dark] .colab-df-convert {\n",
              "      background-color: #3B4455;\n",
              "      fill: #D2E3FC;\n",
              "    }\n",
              "\n",
              "    [theme=dark] .colab-df-convert:hover {\n",
              "      background-color: #434B5C;\n",
              "      box-shadow: 0px 1px 3px 1px rgba(0, 0, 0, 0.15);\n",
              "      filter: drop-shadow(0px 1px 2px rgba(0, 0, 0, 0.3));\n",
              "      fill: #FFFFFF;\n",
              "    }\n",
              "  </style>\n",
              "\n",
              "      <script>\n",
              "        const buttonEl =\n",
              "          document.querySelector('#df-19fb406b-7a5d-4b48-8d4d-fbcfc713aca7 button.colab-df-convert');\n",
              "        buttonEl.style.display =\n",
              "          google.colab.kernel.accessAllowed ? 'block' : 'none';\n",
              "\n",
              "        async function convertToInteractive(key) {\n",
              "          const element = document.querySelector('#df-19fb406b-7a5d-4b48-8d4d-fbcfc713aca7');\n",
              "          const dataTable =\n",
              "            await google.colab.kernel.invokeFunction('convertToInteractive',\n",
              "                                                     [key], {});\n",
              "          if (!dataTable) return;\n",
              "\n",
              "          const docLinkHtml = 'Like what you see? Visit the ' +\n",
              "            '<a target=\"_blank\" href=https://colab.research.google.com/notebooks/data_table.ipynb>data table notebook</a>'\n",
              "            + ' to learn more about interactive tables.';\n",
              "          element.innerHTML = '';\n",
              "          dataTable['output_type'] = 'display_data';\n",
              "          await google.colab.output.renderOutput(dataTable, element);\n",
              "          const docLink = document.createElement('div');\n",
              "          docLink.innerHTML = docLinkHtml;\n",
              "          element.appendChild(docLink);\n",
              "        }\n",
              "      </script>\n",
              "    </div>\n",
              "  </div>\n",
              "  "
            ]
          },
          "metadata": {},
          "execution_count": 162
        }
      ]
    },
    {
      "cell_type": "code",
      "execution_count": 153,
      "metadata": {
        "id": "Sd6EZW6SZRCU"
      },
      "outputs": [],
      "source": [
        "def get_crosstab(df, value_column):\n",
        "    df_crosstab = pd.crosstab(df.customer_id, df.order_year, values=df[value_column], aggfunc=sum)\\\n",
        "        .reset_index()\n",
        "    df_crosstab = pd.merge(df_crosstab, df_first, how='inner', on='customer_id')\n",
        "    del df_crosstab['customer_id']\n",
        "    return df_crosstab\n",
        "\n",
        "def get_crosstab_cur(df, value_column):\n",
        "    df_crosstab = pd.crosstab(df.customer_id, df.order_year, values=df[value_column], aggfunc=sum)\\\n",
        "        .reset_index()\n",
        "    df_crosstab = pd.merge(df_crosstab, df_first, how='inner', on='customer_id')\n",
        "    del df_crosstab['customer_id']\n",
        "    return df_crosstab\n",
        "def get_crosstab_last(df, value_column):\n",
        "    df_crosstab = pd.crosstab(df.customer_id, df.order_year, values=df[value_column], aggfunc=sum)\\\n",
        "        .reset_index()\n",
        "    df_crosstab = pd.merge(df_crosstab, df_first, how='inner', on='customer_id')\n",
        "    del df_crosstab['customer_id']\n",
        "    return df_crosstab"
      ]
    },
    {
      "cell_type": "code",
      "execution_count": 154,
      "metadata": {
        "id": "tyU6GajXZRCV"
      },
      "outputs": [],
      "source": [
        "def get_retention(df):\n",
        "    df_triangle = df.groupby(['first_order']).sum().reset_index()\n",
        "    df_triangle['Base'] = np.diag(df_triangle.iloc[:,1:])\n",
        "    df_retention = pd.DataFrame(df_triangle[['first_order', 'Base']])\n",
        "    df_retention.columns = ['Cohort', 'Base']\n",
        "\n",
        "    for col in df_triangle.columns[1:-1]:\n",
        "        df_retention[col] = round(df_triangle[col] / df_triangle['Base'], 3)\n",
        "\n",
        "    for i in range(2, len(df_retention.columns)):\n",
        "        df_retention.iloc[i-1:, i] = None\n",
        "        \n",
        "    return df_retention"
      ]
    },
    {
      "cell_type": "markdown",
      "metadata": {
        "id": "ApYh2nNJZRCW"
      },
      "source": [
        "### Sales retention"
      ]
    },
    {
      "cell_type": "code",
      "execution_count": 155,
      "metadata": {
        "colab": {
          "base_uri": "https://localhost:8080/",
          "height": 173
        },
        "id": "wzW0_8YjZRCX",
        "outputId": "fb09ed94-e2ba-4477-dfdc-475a6f88fbe8"
      },
      "outputs": [
        {
          "output_type": "execute_result",
          "data": {
            "text/plain": [
              "   Cohort         Base  2014   2015   2016   2017\n",
              "0    2014  484247.4981   1.0  0.754  0.939  1.101\n",
              "1    2015  105388.4962   NaN  1.000  0.944  1.250\n",
              "2    2016   54803.6200   NaN    NaN  1.000  1.111\n",
              "3    2017    7511.8050   NaN    NaN    NaN  1.000"
            ],
            "text/html": [
              "\n",
              "  <div id=\"df-247257b5-3cec-4e73-aa4e-4b2b15b9cd85\">\n",
              "    <div class=\"colab-df-container\">\n",
              "      <div>\n",
              "<style scoped>\n",
              "    .dataframe tbody tr th:only-of-type {\n",
              "        vertical-align: middle;\n",
              "    }\n",
              "\n",
              "    .dataframe tbody tr th {\n",
              "        vertical-align: top;\n",
              "    }\n",
              "\n",
              "    .dataframe thead th {\n",
              "        text-align: right;\n",
              "    }\n",
              "</style>\n",
              "<table border=\"1\" class=\"dataframe\">\n",
              "  <thead>\n",
              "    <tr style=\"text-align: right;\">\n",
              "      <th></th>\n",
              "      <th>Cohort</th>\n",
              "      <th>Base</th>\n",
              "      <th>2014</th>\n",
              "      <th>2015</th>\n",
              "      <th>2016</th>\n",
              "      <th>2017</th>\n",
              "    </tr>\n",
              "  </thead>\n",
              "  <tbody>\n",
              "    <tr>\n",
              "      <th>0</th>\n",
              "      <td>2014</td>\n",
              "      <td>484247.4981</td>\n",
              "      <td>1.0</td>\n",
              "      <td>0.754</td>\n",
              "      <td>0.939</td>\n",
              "      <td>1.101</td>\n",
              "    </tr>\n",
              "    <tr>\n",
              "      <th>1</th>\n",
              "      <td>2015</td>\n",
              "      <td>105388.4962</td>\n",
              "      <td>NaN</td>\n",
              "      <td>1.000</td>\n",
              "      <td>0.944</td>\n",
              "      <td>1.250</td>\n",
              "    </tr>\n",
              "    <tr>\n",
              "      <th>2</th>\n",
              "      <td>2016</td>\n",
              "      <td>54803.6200</td>\n",
              "      <td>NaN</td>\n",
              "      <td>NaN</td>\n",
              "      <td>1.000</td>\n",
              "      <td>1.111</td>\n",
              "    </tr>\n",
              "    <tr>\n",
              "      <th>3</th>\n",
              "      <td>2017</td>\n",
              "      <td>7511.8050</td>\n",
              "      <td>NaN</td>\n",
              "      <td>NaN</td>\n",
              "      <td>NaN</td>\n",
              "      <td>1.000</td>\n",
              "    </tr>\n",
              "  </tbody>\n",
              "</table>\n",
              "</div>\n",
              "      <button class=\"colab-df-convert\" onclick=\"convertToInteractive('df-247257b5-3cec-4e73-aa4e-4b2b15b9cd85')\"\n",
              "              title=\"Convert this dataframe to an interactive table.\"\n",
              "              style=\"display:none;\">\n",
              "        \n",
              "  <svg xmlns=\"http://www.w3.org/2000/svg\" height=\"24px\"viewBox=\"0 0 24 24\"\n",
              "       width=\"24px\">\n",
              "    <path d=\"M0 0h24v24H0V0z\" fill=\"none\"/>\n",
              "    <path d=\"M18.56 5.44l.94 2.06.94-2.06 2.06-.94-2.06-.94-.94-2.06-.94 2.06-2.06.94zm-11 1L8.5 8.5l.94-2.06 2.06-.94-2.06-.94L8.5 2.5l-.94 2.06-2.06.94zm10 10l.94 2.06.94-2.06 2.06-.94-2.06-.94-.94-2.06-.94 2.06-2.06.94z\"/><path d=\"M17.41 7.96l-1.37-1.37c-.4-.4-.92-.59-1.43-.59-.52 0-1.04.2-1.43.59L10.3 9.45l-7.72 7.72c-.78.78-.78 2.05 0 2.83L4 21.41c.39.39.9.59 1.41.59.51 0 1.02-.2 1.41-.59l7.78-7.78 2.81-2.81c.8-.78.8-2.07 0-2.86zM5.41 20L4 18.59l7.72-7.72 1.47 1.35L5.41 20z\"/>\n",
              "  </svg>\n",
              "      </button>\n",
              "      \n",
              "  <style>\n",
              "    .colab-df-container {\n",
              "      display:flex;\n",
              "      flex-wrap:wrap;\n",
              "      gap: 12px;\n",
              "    }\n",
              "\n",
              "    .colab-df-convert {\n",
              "      background-color: #E8F0FE;\n",
              "      border: none;\n",
              "      border-radius: 50%;\n",
              "      cursor: pointer;\n",
              "      display: none;\n",
              "      fill: #1967D2;\n",
              "      height: 32px;\n",
              "      padding: 0 0 0 0;\n",
              "      width: 32px;\n",
              "    }\n",
              "\n",
              "    .colab-df-convert:hover {\n",
              "      background-color: #E2EBFA;\n",
              "      box-shadow: 0px 1px 2px rgba(60, 64, 67, 0.3), 0px 1px 3px 1px rgba(60, 64, 67, 0.15);\n",
              "      fill: #174EA6;\n",
              "    }\n",
              "\n",
              "    [theme=dark] .colab-df-convert {\n",
              "      background-color: #3B4455;\n",
              "      fill: #D2E3FC;\n",
              "    }\n",
              "\n",
              "    [theme=dark] .colab-df-convert:hover {\n",
              "      background-color: #434B5C;\n",
              "      box-shadow: 0px 1px 3px 1px rgba(0, 0, 0, 0.15);\n",
              "      filter: drop-shadow(0px 1px 2px rgba(0, 0, 0, 0.3));\n",
              "      fill: #FFFFFF;\n",
              "    }\n",
              "  </style>\n",
              "\n",
              "      <script>\n",
              "        const buttonEl =\n",
              "          document.querySelector('#df-247257b5-3cec-4e73-aa4e-4b2b15b9cd85 button.colab-df-convert');\n",
              "        buttonEl.style.display =\n",
              "          google.colab.kernel.accessAllowed ? 'block' : 'none';\n",
              "\n",
              "        async function convertToInteractive(key) {\n",
              "          const element = document.querySelector('#df-247257b5-3cec-4e73-aa4e-4b2b15b9cd85');\n",
              "          const dataTable =\n",
              "            await google.colab.kernel.invokeFunction('convertToInteractive',\n",
              "                                                     [key], {});\n",
              "          if (!dataTable) return;\n",
              "\n",
              "          const docLinkHtml = 'Like what you see? Visit the ' +\n",
              "            '<a target=\"_blank\" href=https://colab.research.google.com/notebooks/data_table.ipynb>data table notebook</a>'\n",
              "            + ' to learn more about interactive tables.';\n",
              "          element.innerHTML = '';\n",
              "          dataTable['output_type'] = 'display_data';\n",
              "          await google.colab.output.renderOutput(dataTable, element);\n",
              "          const docLink = document.createElement('div');\n",
              "          docLink.innerHTML = docLinkHtml;\n",
              "          element.appendChild(docLink);\n",
              "        }\n",
              "      </script>\n",
              "    </div>\n",
              "  </div>\n",
              "  "
            ]
          },
          "metadata": {},
          "execution_count": 155
        }
      ],
      "source": [
        "get_retention(get_crosstab(df_users, 'sales'))"
      ]
    },
    {
      "cell_type": "code",
      "source": [
        "1-7511.8050/54803.6200"
      ],
      "metadata": {
        "colab": {
          "base_uri": "https://localhost:8080/"
        },
        "id": "qMFLZZxjTk6p",
        "outputId": "aeb0cf58-b0bb-4049-b00a-bb18713cb98e"
      },
      "execution_count": 182,
      "outputs": [
        {
          "output_type": "execute_result",
          "data": {
            "text/plain": [
              "0.8629323208941307"
            ]
          },
          "metadata": {},
          "execution_count": 182
        }
      ]
    },
    {
      "cell_type": "markdown",
      "metadata": {
        "id": "rK8vlq58ZRCY"
      },
      "source": [
        "### Transaction retention"
      ]
    },
    {
      "cell_type": "code",
      "execution_count": 157,
      "metadata": {
        "colab": {
          "base_uri": "https://localhost:8080/",
          "height": 173
        },
        "id": "C9jASSC5ZRCZ",
        "outputId": "e7353132-fa89-46ae-8e82-34c8b13b44bf"
      },
      "outputs": [
        {
          "output_type": "execute_result",
          "data": {
            "text/plain": [
              "   Cohort   Base  2014   2015   2016   2017\n",
              "0    2014  969.0   1.0  0.833  1.028  1.288\n",
              "1    2015  231.0   NaN  1.000  0.931  1.268\n",
              "2    2016  104.0   NaN    NaN  1.000  1.221\n",
              "3    2017   19.0   NaN    NaN    NaN  1.000"
            ],
            "text/html": [
              "\n",
              "  <div id=\"df-71831787-9784-4021-8e51-b76439b85dae\">\n",
              "    <div class=\"colab-df-container\">\n",
              "      <div>\n",
              "<style scoped>\n",
              "    .dataframe tbody tr th:only-of-type {\n",
              "        vertical-align: middle;\n",
              "    }\n",
              "\n",
              "    .dataframe tbody tr th {\n",
              "        vertical-align: top;\n",
              "    }\n",
              "\n",
              "    .dataframe thead th {\n",
              "        text-align: right;\n",
              "    }\n",
              "</style>\n",
              "<table border=\"1\" class=\"dataframe\">\n",
              "  <thead>\n",
              "    <tr style=\"text-align: right;\">\n",
              "      <th></th>\n",
              "      <th>Cohort</th>\n",
              "      <th>Base</th>\n",
              "      <th>2014</th>\n",
              "      <th>2015</th>\n",
              "      <th>2016</th>\n",
              "      <th>2017</th>\n",
              "    </tr>\n",
              "  </thead>\n",
              "  <tbody>\n",
              "    <tr>\n",
              "      <th>0</th>\n",
              "      <td>2014</td>\n",
              "      <td>969.0</td>\n",
              "      <td>1.0</td>\n",
              "      <td>0.833</td>\n",
              "      <td>1.028</td>\n",
              "      <td>1.288</td>\n",
              "    </tr>\n",
              "    <tr>\n",
              "      <th>1</th>\n",
              "      <td>2015</td>\n",
              "      <td>231.0</td>\n",
              "      <td>NaN</td>\n",
              "      <td>1.000</td>\n",
              "      <td>0.931</td>\n",
              "      <td>1.268</td>\n",
              "    </tr>\n",
              "    <tr>\n",
              "      <th>2</th>\n",
              "      <td>2016</td>\n",
              "      <td>104.0</td>\n",
              "      <td>NaN</td>\n",
              "      <td>NaN</td>\n",
              "      <td>1.000</td>\n",
              "      <td>1.221</td>\n",
              "    </tr>\n",
              "    <tr>\n",
              "      <th>3</th>\n",
              "      <td>2017</td>\n",
              "      <td>19.0</td>\n",
              "      <td>NaN</td>\n",
              "      <td>NaN</td>\n",
              "      <td>NaN</td>\n",
              "      <td>1.000</td>\n",
              "    </tr>\n",
              "  </tbody>\n",
              "</table>\n",
              "</div>\n",
              "      <button class=\"colab-df-convert\" onclick=\"convertToInteractive('df-71831787-9784-4021-8e51-b76439b85dae')\"\n",
              "              title=\"Convert this dataframe to an interactive table.\"\n",
              "              style=\"display:none;\">\n",
              "        \n",
              "  <svg xmlns=\"http://www.w3.org/2000/svg\" height=\"24px\"viewBox=\"0 0 24 24\"\n",
              "       width=\"24px\">\n",
              "    <path d=\"M0 0h24v24H0V0z\" fill=\"none\"/>\n",
              "    <path d=\"M18.56 5.44l.94 2.06.94-2.06 2.06-.94-2.06-.94-.94-2.06-.94 2.06-2.06.94zm-11 1L8.5 8.5l.94-2.06 2.06-.94-2.06-.94L8.5 2.5l-.94 2.06-2.06.94zm10 10l.94 2.06.94-2.06 2.06-.94-2.06-.94-.94-2.06-.94 2.06-2.06.94z\"/><path d=\"M17.41 7.96l-1.37-1.37c-.4-.4-.92-.59-1.43-.59-.52 0-1.04.2-1.43.59L10.3 9.45l-7.72 7.72c-.78.78-.78 2.05 0 2.83L4 21.41c.39.39.9.59 1.41.59.51 0 1.02-.2 1.41-.59l7.78-7.78 2.81-2.81c.8-.78.8-2.07 0-2.86zM5.41 20L4 18.59l7.72-7.72 1.47 1.35L5.41 20z\"/>\n",
              "  </svg>\n",
              "      </button>\n",
              "      \n",
              "  <style>\n",
              "    .colab-df-container {\n",
              "      display:flex;\n",
              "      flex-wrap:wrap;\n",
              "      gap: 12px;\n",
              "    }\n",
              "\n",
              "    .colab-df-convert {\n",
              "      background-color: #E8F0FE;\n",
              "      border: none;\n",
              "      border-radius: 50%;\n",
              "      cursor: pointer;\n",
              "      display: none;\n",
              "      fill: #1967D2;\n",
              "      height: 32px;\n",
              "      padding: 0 0 0 0;\n",
              "      width: 32px;\n",
              "    }\n",
              "\n",
              "    .colab-df-convert:hover {\n",
              "      background-color: #E2EBFA;\n",
              "      box-shadow: 0px 1px 2px rgba(60, 64, 67, 0.3), 0px 1px 3px 1px rgba(60, 64, 67, 0.15);\n",
              "      fill: #174EA6;\n",
              "    }\n",
              "\n",
              "    [theme=dark] .colab-df-convert {\n",
              "      background-color: #3B4455;\n",
              "      fill: #D2E3FC;\n",
              "    }\n",
              "\n",
              "    [theme=dark] .colab-df-convert:hover {\n",
              "      background-color: #434B5C;\n",
              "      box-shadow: 0px 1px 3px 1px rgba(0, 0, 0, 0.15);\n",
              "      filter: drop-shadow(0px 1px 2px rgba(0, 0, 0, 0.3));\n",
              "      fill: #FFFFFF;\n",
              "    }\n",
              "  </style>\n",
              "\n",
              "      <script>\n",
              "        const buttonEl =\n",
              "          document.querySelector('#df-71831787-9784-4021-8e51-b76439b85dae button.colab-df-convert');\n",
              "        buttonEl.style.display =\n",
              "          google.colab.kernel.accessAllowed ? 'block' : 'none';\n",
              "\n",
              "        async function convertToInteractive(key) {\n",
              "          const element = document.querySelector('#df-71831787-9784-4021-8e51-b76439b85dae');\n",
              "          const dataTable =\n",
              "            await google.colab.kernel.invokeFunction('convertToInteractive',\n",
              "                                                     [key], {});\n",
              "          if (!dataTable) return;\n",
              "\n",
              "          const docLinkHtml = 'Like what you see? Visit the ' +\n",
              "            '<a target=\"_blank\" href=https://colab.research.google.com/notebooks/data_table.ipynb>data table notebook</a>'\n",
              "            + ' to learn more about interactive tables.';\n",
              "          element.innerHTML = '';\n",
              "          dataTable['output_type'] = 'display_data';\n",
              "          await google.colab.output.renderOutput(dataTable, element);\n",
              "          const docLink = document.createElement('div');\n",
              "          docLink.innerHTML = docLinkHtml;\n",
              "          element.appendChild(docLink);\n",
              "        }\n",
              "      </script>\n",
              "    </div>\n",
              "  </div>\n",
              "  "
            ]
          },
          "metadata": {},
          "execution_count": 157
        }
      ],
      "source": [
        "get_retention(get_crosstab(df_users, 'id'))"
      ]
    },
    {
      "cell_type": "code",
      "source": [
        "1 - 19/104"
      ],
      "metadata": {
        "colab": {
          "base_uri": "https://localhost:8080/"
        },
        "id": "hSlrPvMEXRGS",
        "outputId": "a0e80fe6-8793-4689-eff8-89c33fa134dd"
      },
      "execution_count": 183,
      "outputs": [
        {
          "output_type": "execute_result",
          "data": {
            "text/plain": [
              "0.8173076923076923"
            ]
          },
          "metadata": {},
          "execution_count": 183
        }
      ]
    },
    {
      "cell_type": "markdown",
      "metadata": {
        "id": "FlitdVctZRCZ"
      },
      "source": [
        "### Sales retention by segment"
      ]
    },
    {
      "cell_type": "code",
      "execution_count": 158,
      "metadata": {
        "colab": {
          "base_uri": "https://localhost:8080/"
        },
        "id": "FfQ4qFyoZRCa",
        "outputId": "9d2cd2c8-f1d6-4820-a87b-d2ec639b5463"
      },
      "outputs": [
        {
          "output_type": "stream",
          "name": "stdout",
          "text": [
            "\n",
            "Segment: Consumer\n",
            "   Cohort         Base  2014   2015   2016   2017\n",
            "0    2014  266096.8126   1.0  0.789  0.818  0.906\n",
            "1    2015   56590.8551   NaN  1.000  0.832  0.817\n",
            "2    2016   32119.4550   NaN    NaN  1.000  1.229\n",
            "3    2017    4985.0760   NaN    NaN    NaN  1.000\n",
            "\n",
            "Segment: Home Office\n",
            "   Cohort        Base  2014   2015   2016   2017\n",
            "0    2014  89715.8118   1.0  0.616  0.874  1.296\n",
            "1    2015  19942.1216   NaN  1.000  1.120  1.475\n",
            "2    2016   4483.5420   NaN    NaN  1.000  2.905\n",
            "3    2017    729.6480   NaN    NaN    NaN  1.000\n",
            "\n",
            "Segment: Corporate\n",
            "   Cohort         Base  2014   2015   2016   2017\n",
            "0    2014  128434.8737   1.0  0.778  1.237  1.367\n",
            "1    2015   28855.5195   NaN  1.000  1.043  1.944\n",
            "2    2016   18200.6230   NaN    NaN  1.000  0.462\n",
            "3    2017    1797.0810   NaN    NaN    NaN  1.000\n"
          ]
        }
      ],
      "source": [
        "for segment in df_users.segment.unique():\n",
        "    print(f'\\nSegment: {segment}')\n",
        "    print(get_retention(get_crosstab(df_users[df_users.segment==segment], 'sales')))"
      ]
    },
    {
      "cell_type": "markdown",
      "metadata": {
        "id": "_hIq7doDZRCb"
      },
      "source": [
        "### Sales retention by ship_mode"
      ]
    },
    {
      "cell_type": "code",
      "execution_count": 160,
      "metadata": {
        "colab": {
          "base_uri": "https://localhost:8080/"
        },
        "id": "IkvfCbH6ZRCb",
        "outputId": "ce85fc72-a64a-43f4-fba7-398843c25fa8"
      },
      "outputs": [
        {
          "output_type": "stream",
          "name": "stdout",
          "text": [
            "\n",
            "Ship_mode: Standard\n",
            "   Cohort         Base  2014   2015   2016   2017\n",
            "0    2014  305621.3196   1.0  0.716  0.921  0.935\n",
            "1    2015   65723.8550   NaN  1.000  0.791  1.142\n",
            "2    2016   38855.4240   NaN    NaN  1.000  0.752\n",
            "3    2017    5644.8960   NaN    NaN    NaN  1.000\n",
            "\n",
            "Ship_mode: First\n",
            "   Cohort        Base  2014   2015   2016   2017\n",
            "0    2014  59769.2645   1.0  0.997  1.010  1.590\n",
            "1    2015   9644.0606   NaN  1.000  1.632  2.143\n",
            "2    2016   6153.2850   NaN    NaN  1.000  3.814\n",
            "3    2017    955.7840   NaN    NaN    NaN  1.000\n",
            "\n",
            "Ship_mode: Second\n",
            "   Cohort         Base  2014   2015   2016   2017\n",
            "0    2014  101386.7800   1.0  0.642  0.811  1.105\n",
            "1    2015   23970.2056   NaN  1.000  1.180  1.216\n",
            "2    2016    9537.8710   NaN    NaN  1.000  0.697\n",
            "3    2017     911.1250   NaN    NaN    NaN  1.000\n",
            "\n",
            "Ship_mode: Same Day\n",
            "   Cohort       Base  2014   2015   2016   2017\n",
            "0    2014  17470.134   1.0  1.234  1.759  2.308\n",
            "1    2015   6050.375   NaN  1.000  0.581  1.136\n",
            "2    2016    257.040   NaN    NaN  1.000  6.163\n"
          ]
        }
      ],
      "source": [
        "for ship_mode in df_users.ship_mode.unique():\n",
        "    print(f'\\nShip_mode: {ship_mode}')\n",
        "    print(get_retention(get_crosstab(df_users[df_users.ship_mode==ship_mode], 'sales')))"
      ]
    },
    {
      "cell_type": "markdown",
      "metadata": {
        "id": "ab5_0ih4ZRCc"
      },
      "source": [
        "### Transaction retention by segment"
      ]
    },
    {
      "cell_type": "code",
      "execution_count": 161,
      "metadata": {
        "colab": {
          "base_uri": "https://localhost:8080/"
        },
        "id": "HWQDFhSMZRCd",
        "outputId": "0b109905-b64a-4904-becf-da2cdd92bc5e"
      },
      "outputs": [
        {
          "output_type": "stream",
          "name": "stdout",
          "text": [
            "\n",
            "Segment: Consumer\n",
            "   Cohort   Base  2014   2015   2016   2017\n",
            "0    2014  524.0   1.0  0.817  0.954  1.265\n",
            "1    2015  107.0   NaN  1.000  0.869  1.215\n",
            "2    2016   58.0   NaN    NaN  1.000  1.207\n",
            "3    2017   13.0   NaN    NaN    NaN  1.000\n",
            "\n",
            "Segment: Home Office\n",
            "   Cohort   Base  2014   2015   2016   2017\n",
            "0    2014  158.0   1.0  0.899  1.095  1.405\n",
            "1    2015   49.0   NaN  1.000  1.122  1.429\n",
            "2    2016   14.0   NaN    NaN  1.000  1.786\n",
            "3    2017    1.0   NaN    NaN    NaN  1.000\n",
            "\n",
            "Segment: Corporate\n",
            "   Cohort   Base  2014   2015   2016   2017\n",
            "0    2014  287.0   1.0  0.826  1.125  1.265\n",
            "1    2015   75.0   NaN  1.000  0.893  1.240\n",
            "2    2016   32.0   NaN    NaN  1.000  1.000\n",
            "3    2017    5.0   NaN    NaN    NaN  1.000\n"
          ]
        }
      ],
      "source": [
        "for segment in df_users.segment.unique():\n",
        "    print(f'\\nSegment: {segment}')\n",
        "    print(get_retention(get_crosstab(df_users[df_users.segment==segment], 'id')))"
      ]
    },
    {
      "cell_type": "markdown",
      "metadata": {
        "id": "GzxPqBrKZRCe"
      },
      "source": [
        "### Transaction retention by ship_mode"
      ]
    },
    {
      "cell_type": "code",
      "execution_count": null,
      "metadata": {
        "id": "-uIQhK2JZRCf",
        "outputId": "b487d6fe-f1c5-4fa9-c858-314ef0152abd"
      },
      "outputs": [
        {
          "name": "stdout",
          "output_type": "stream",
          "text": [
            "\n",
            "Ship_mode: Standard\n",
            "  Cohort   Base  2014   2015   2016   2017\n",
            "0   2014  586.0   1.0  0.845  1.002  1.229\n",
            "1   2015  141.0   NaN  1.000  0.943  1.284\n",
            "2   2016   62.0   NaN    NaN  1.000  1.242\n",
            "3   2017   12.0   NaN    NaN    NaN  1.000\n",
            "\n",
            "Ship_mode: First\n",
            "  Cohort   Base  2014   2015   2016   2017\n",
            "0   2014  145.0   1.0  0.772  1.103  1.448\n",
            "1   2015   31.0   NaN  1.000  1.194  1.516\n",
            "2   2016   18.0   NaN    NaN  1.000  1.278\n",
            "3   2017    4.0   NaN    NaN    NaN  1.000\n",
            "\n",
            "Ship_mode: Second\n",
            "  Cohort   Base  2014   2015   2016   2017\n",
            "0   2014  190.0   1.0  0.826  0.995  1.311\n",
            "1   2015   49.0   NaN  1.000  0.673  1.020\n",
            "2   2016   22.0   NaN    NaN  1.000  1.000\n",
            "3   2017    3.0   NaN    NaN    NaN  1.000\n",
            "\n",
            "Ship_mode: Same Day\n",
            "  Cohort  Base  2014   2015  2016   2017\n",
            "0   2014  48.0   1.0  0.896  1.25  1.438\n",
            "1   2015  10.0   NaN  1.000  1.20  1.500\n",
            "2   2016   2.0   NaN    NaN  1.00  2.500\n"
          ]
        }
      ],
      "source": [
        "for ship_mode in df_users.ship_mode.unique():\n",
        "    print(f'\\nShip_mode: {ship_mode}')\n",
        "    print(get_retention(get_crosstab(df_users[df_users.ship_mode==ship_mode], 'id')))"
      ]
    },
    {
      "cell_type": "code",
      "execution_count": null,
      "metadata": {
        "id": "sdhS8uTKZRCf"
      },
      "outputs": [],
      "source": []
    },
    {
      "cell_type": "markdown",
      "metadata": {
        "id": "7eO1XZf8ZRB8"
      },
      "source": [
        "## Monthly Retention"
      ]
    },
    {
      "cell_type": "code",
      "execution_count": 20,
      "metadata": {
        "id": "uWRijKq2ZRCA"
      },
      "outputs": [],
      "source": [
        "import pandas as pd\n",
        "import numpy as np\n",
        "import seaborn as sns\n",
        "from operator import attrgetter"
      ]
    },
    {
      "cell_type": "code",
      "source": [
        "orders = pd.read_csv('/content/orders.csv', encoding = \"ISO-8859-1\")\n",
        "customers = pd.read_csv('/content/customers.csv', encoding = \"ISO-8859-1\")"
      ],
      "metadata": {
        "id": "cF97LbiiZqAb"
      },
      "execution_count": 3,
      "outputs": []
    },
    {
      "cell_type": "code",
      "source": [
        "orders['order_date'] = pd.to_datetime(orders['order_date'])\n",
        "orders['order_y_m'] = orders['order_date'].map(lambda date: 100*date.year + date.month)"
      ],
      "metadata": {
        "id": "9MjAYyh8Zzn9"
      },
      "execution_count": 4,
      "outputs": []
    },
    {
      "cell_type": "code",
      "source": [
        "orders['order_date_months'] = orders['order_date'].map(lambda date: 12*date.year + date.month)"
      ],
      "metadata": {
        "id": "HbNwdGAEwjTh"
      },
      "execution_count": 24,
      "outputs": []
    },
    {
      "cell_type": "code",
      "source": [
        "orders_fp = orders.groupby('customer_id').order_y_m.min().reset_index()\n",
        "orders_fp.columns = ['customer_id', 'first_order']\n",
        "#orders_fp['first_order_months'] = orders_fp['first_order'].astype(str)[:3]*12+orders_fp['first_order'].astype(str)[3:]"
      ],
      "metadata": {
        "id": "Qo483niWZ0Nn"
      },
      "execution_count": 32,
      "outputs": []
    },
    {
      "cell_type": "code",
      "source": [
        "orders_fp_m = orders.groupby('customer_id').order_date_months.min().reset_index()\n",
        "orders_fp_m.columns = ['customer_id', 'first_order_m']"
      ],
      "metadata": {
        "id": "4y2wqbvJycoU"
      },
      "execution_count": 34,
      "outputs": []
    },
    {
      "cell_type": "code",
      "source": [
        "orders = pd.merge(orders, orders_fp, how='inner', on='customer_id')"
      ],
      "metadata": {
        "id": "FlW072guZ2gv"
      },
      "execution_count": 6,
      "outputs": []
    },
    {
      "cell_type": "code",
      "source": [
        "orders = pd.merge(orders, orders_fp_m, how='inner', on='customer_id')"
      ],
      "metadata": {
        "id": "fsKewGR1ywEj"
      },
      "execution_count": 36,
      "outputs": []
    },
    {
      "cell_type": "code",
      "source": [
        "#df_users = orders.groupby(['customer_id', 'first_order', 'order_y_m'])\\\n",
        "#    .agg({'sales':'sum'}).reset_index()\n",
        "\n",
        "\"\"\"\n",
        "df_users = orders.groupby(['customer_id', 'first_order', 'order_y_m'])\\\n",
        "    .agg({'sales':'sum', 'id':'count'}).reset_index()\n",
        "\n",
        "df_users['period_number'] = df_users['order_y_m']//100 *12 + df_users['order_y_m']%100 - df_users['first_order']//100 *12 - df_users['first_order']%100\n",
        "\"\"\"\n",
        "\n",
        "df_users = orders.groupby(['first_order', 'order_y_m'])\\\n",
        "    .agg({'sales':'sum', 'id':'count'}).reset_index()\n",
        "\n",
        "df_users['period_number'] = df_users['order_y_m']//100 *12 + df_users['order_y_m']%100 - df_users['first_order']//100 *12 - df_users['first_order']%100\n"
      ],
      "metadata": {
        "id": "xJf3yKDHZ41t"
      },
      "execution_count": 55,
      "outputs": []
    },
    {
      "cell_type": "code",
      "source": [
        "df_users_pivot_sales = df_users.pivot_table(index = 'first_order',\n",
        "                                     columns = 'period_number',\n",
        "                                     values = 'sales')"
      ],
      "metadata": {
        "colab": {
          "base_uri": "https://localhost:8080/",
          "height": 392
        },
        "id": "reQ56i9PlbFZ",
        "outputId": "ebcc81be-e525-4807-c264-fa10011a2483"
      },
      "execution_count": 164,
      "outputs": [
        {
          "output_type": "error",
          "ename": "KeyError",
          "evalue": "ignored",
          "traceback": [
            "\u001b[0;31m---------------------------------------------------------------------------\u001b[0m",
            "\u001b[0;31mKeyError\u001b[0m                                  Traceback (most recent call last)",
            "\u001b[0;32m<ipython-input-164-1f3b4764b713>\u001b[0m in \u001b[0;36m<module>\u001b[0;34m\u001b[0m\n\u001b[0;32m----> 1\u001b[0;31m df_users_pivot_sales = df_users.pivot_table(index = 'first_order',\n\u001b[0m\u001b[1;32m      2\u001b[0m                                      \u001b[0mcolumns\u001b[0m \u001b[0;34m=\u001b[0m \u001b[0;34m'period_number'\u001b[0m\u001b[0;34m,\u001b[0m\u001b[0;34m\u001b[0m\u001b[0;34m\u001b[0m\u001b[0m\n\u001b[1;32m      3\u001b[0m                                      values = 'sales')\n\u001b[1;32m      4\u001b[0m \u001b[0;31m#sales_2015 = df_users_pivot_sales.iloc[11:11+12, :12]\u001b[0m\u001b[0;34m\u001b[0m\u001b[0;34m\u001b[0m\u001b[0;34m\u001b[0m\u001b[0m\n\u001b[1;32m      5\u001b[0m \u001b[0msales_2016\u001b[0m \u001b[0;34m=\u001b[0m \u001b[0mdf_users_pivot_sales\u001b[0m\u001b[0;34m.\u001b[0m\u001b[0miloc\u001b[0m\u001b[0;34m[\u001b[0m\u001b[0;36m12\u001b[0m\u001b[0;34m+\u001b[0m\u001b[0;36m12\u001b[0m\u001b[0;34m:\u001b[0m\u001b[0;36m12\u001b[0m\u001b[0;34m+\u001b[0m\u001b[0;36m12\u001b[0m\u001b[0;34m+\u001b[0m\u001b[0;36m12\u001b[0m\u001b[0;34m,\u001b[0m \u001b[0;34m:\u001b[0m\u001b[0;36m12\u001b[0m\u001b[0;34m]\u001b[0m\u001b[0;34m\u001b[0m\u001b[0;34m\u001b[0m\u001b[0m\n",
            "\u001b[0;32m/usr/local/lib/python3.8/dist-packages/pandas/core/frame.py\u001b[0m in \u001b[0;36mpivot_table\u001b[0;34m(self, values, index, columns, aggfunc, fill_value, margins, dropna, margins_name, observed, sort)\u001b[0m\n\u001b[1;32m   7949\u001b[0m         \u001b[0;32mfrom\u001b[0m \u001b[0mpandas\u001b[0m\u001b[0;34m.\u001b[0m\u001b[0mcore\u001b[0m\u001b[0;34m.\u001b[0m\u001b[0mreshape\u001b[0m\u001b[0;34m.\u001b[0m\u001b[0mpivot\u001b[0m \u001b[0;32mimport\u001b[0m \u001b[0mpivot_table\u001b[0m\u001b[0;34m\u001b[0m\u001b[0;34m\u001b[0m\u001b[0m\n\u001b[1;32m   7950\u001b[0m \u001b[0;34m\u001b[0m\u001b[0m\n\u001b[0;32m-> 7951\u001b[0;31m         return pivot_table(\n\u001b[0m\u001b[1;32m   7952\u001b[0m             \u001b[0mself\u001b[0m\u001b[0;34m,\u001b[0m\u001b[0;34m\u001b[0m\u001b[0;34m\u001b[0m\u001b[0m\n\u001b[1;32m   7953\u001b[0m             \u001b[0mvalues\u001b[0m\u001b[0;34m=\u001b[0m\u001b[0mvalues\u001b[0m\u001b[0;34m,\u001b[0m\u001b[0;34m\u001b[0m\u001b[0;34m\u001b[0m\u001b[0m\n",
            "\u001b[0;32m/usr/local/lib/python3.8/dist-packages/pandas/core/reshape/pivot.py\u001b[0m in \u001b[0;36mpivot_table\u001b[0;34m(data, values, index, columns, aggfunc, fill_value, margins, dropna, margins_name, observed, sort)\u001b[0m\n\u001b[1;32m     93\u001b[0m         \u001b[0;32mreturn\u001b[0m \u001b[0mtable\u001b[0m\u001b[0;34m.\u001b[0m\u001b[0m__finalize__\u001b[0m\u001b[0;34m(\u001b[0m\u001b[0mdata\u001b[0m\u001b[0;34m,\u001b[0m \u001b[0mmethod\u001b[0m\u001b[0;34m=\u001b[0m\u001b[0;34m\"pivot_table\"\u001b[0m\u001b[0;34m)\u001b[0m\u001b[0;34m\u001b[0m\u001b[0;34m\u001b[0m\u001b[0m\n\u001b[1;32m     94\u001b[0m \u001b[0;34m\u001b[0m\u001b[0m\n\u001b[0;32m---> 95\u001b[0;31m     table = __internal_pivot_table(\n\u001b[0m\u001b[1;32m     96\u001b[0m         \u001b[0mdata\u001b[0m\u001b[0;34m,\u001b[0m\u001b[0;34m\u001b[0m\u001b[0;34m\u001b[0m\u001b[0m\n\u001b[1;32m     97\u001b[0m         \u001b[0mvalues\u001b[0m\u001b[0;34m,\u001b[0m\u001b[0;34m\u001b[0m\u001b[0;34m\u001b[0m\u001b[0m\n",
            "\u001b[0;32m/usr/local/lib/python3.8/dist-packages/pandas/core/reshape/pivot.py\u001b[0m in \u001b[0;36m__internal_pivot_table\u001b[0;34m(data, values, index, columns, aggfunc, fill_value, margins, dropna, margins_name, observed, sort)\u001b[0m\n\u001b[1;32m    162\u001b[0m         \u001b[0mvalues\u001b[0m \u001b[0;34m=\u001b[0m \u001b[0mlist\u001b[0m\u001b[0;34m(\u001b[0m\u001b[0mvalues\u001b[0m\u001b[0;34m)\u001b[0m\u001b[0;34m\u001b[0m\u001b[0;34m\u001b[0m\u001b[0m\n\u001b[1;32m    163\u001b[0m \u001b[0;34m\u001b[0m\u001b[0m\n\u001b[0;32m--> 164\u001b[0;31m     \u001b[0mgrouped\u001b[0m \u001b[0;34m=\u001b[0m \u001b[0mdata\u001b[0m\u001b[0;34m.\u001b[0m\u001b[0mgroupby\u001b[0m\u001b[0;34m(\u001b[0m\u001b[0mkeys\u001b[0m\u001b[0;34m,\u001b[0m \u001b[0mobserved\u001b[0m\u001b[0;34m=\u001b[0m\u001b[0mobserved\u001b[0m\u001b[0;34m,\u001b[0m \u001b[0msort\u001b[0m\u001b[0;34m=\u001b[0m\u001b[0msort\u001b[0m\u001b[0;34m)\u001b[0m\u001b[0;34m\u001b[0m\u001b[0;34m\u001b[0m\u001b[0m\n\u001b[0m\u001b[1;32m    165\u001b[0m     \u001b[0magged\u001b[0m \u001b[0;34m=\u001b[0m \u001b[0mgrouped\u001b[0m\u001b[0;34m.\u001b[0m\u001b[0magg\u001b[0m\u001b[0;34m(\u001b[0m\u001b[0maggfunc\u001b[0m\u001b[0;34m)\u001b[0m\u001b[0;34m\u001b[0m\u001b[0;34m\u001b[0m\u001b[0m\n\u001b[1;32m    166\u001b[0m     \u001b[0;32mif\u001b[0m \u001b[0mdropna\u001b[0m \u001b[0;32mand\u001b[0m \u001b[0misinstance\u001b[0m\u001b[0;34m(\u001b[0m\u001b[0magged\u001b[0m\u001b[0;34m,\u001b[0m \u001b[0mABCDataFrame\u001b[0m\u001b[0;34m)\u001b[0m \u001b[0;32mand\u001b[0m \u001b[0mlen\u001b[0m\u001b[0;34m(\u001b[0m\u001b[0magged\u001b[0m\u001b[0;34m.\u001b[0m\u001b[0mcolumns\u001b[0m\u001b[0;34m)\u001b[0m\u001b[0;34m:\u001b[0m\u001b[0;34m\u001b[0m\u001b[0;34m\u001b[0m\u001b[0m\n",
            "\u001b[0;32m/usr/local/lib/python3.8/dist-packages/pandas/core/frame.py\u001b[0m in \u001b[0;36mgroupby\u001b[0;34m(self, by, axis, level, as_index, sort, group_keys, squeeze, observed, dropna)\u001b[0m\n\u001b[1;32m   7629\u001b[0m         \u001b[0;31m# error: Argument \"squeeze\" to \"DataFrameGroupBy\" has incompatible type\u001b[0m\u001b[0;34m\u001b[0m\u001b[0;34m\u001b[0m\u001b[0;34m\u001b[0m\u001b[0m\n\u001b[1;32m   7630\u001b[0m         \u001b[0;31m# \"Union[bool, NoDefault]\"; expected \"bool\"\u001b[0m\u001b[0;34m\u001b[0m\u001b[0;34m\u001b[0m\u001b[0;34m\u001b[0m\u001b[0m\n\u001b[0;32m-> 7631\u001b[0;31m         return DataFrameGroupBy(\n\u001b[0m\u001b[1;32m   7632\u001b[0m             \u001b[0mobj\u001b[0m\u001b[0;34m=\u001b[0m\u001b[0mself\u001b[0m\u001b[0;34m,\u001b[0m\u001b[0;34m\u001b[0m\u001b[0;34m\u001b[0m\u001b[0m\n\u001b[1;32m   7633\u001b[0m             \u001b[0mkeys\u001b[0m\u001b[0;34m=\u001b[0m\u001b[0mby\u001b[0m\u001b[0;34m,\u001b[0m\u001b[0;34m\u001b[0m\u001b[0;34m\u001b[0m\u001b[0m\n",
            "\u001b[0;32m/usr/local/lib/python3.8/dist-packages/pandas/core/groupby/groupby.py\u001b[0m in \u001b[0;36m__init__\u001b[0;34m(self, obj, keys, axis, level, grouper, exclusions, selection, as_index, sort, group_keys, squeeze, observed, mutated, dropna)\u001b[0m\n\u001b[1;32m    887\u001b[0m             \u001b[0;32mfrom\u001b[0m \u001b[0mpandas\u001b[0m\u001b[0;34m.\u001b[0m\u001b[0mcore\u001b[0m\u001b[0;34m.\u001b[0m\u001b[0mgroupby\u001b[0m\u001b[0;34m.\u001b[0m\u001b[0mgrouper\u001b[0m \u001b[0;32mimport\u001b[0m \u001b[0mget_grouper\u001b[0m\u001b[0;34m\u001b[0m\u001b[0;34m\u001b[0m\u001b[0m\n\u001b[1;32m    888\u001b[0m \u001b[0;34m\u001b[0m\u001b[0m\n\u001b[0;32m--> 889\u001b[0;31m             grouper, exclusions, obj = get_grouper(\n\u001b[0m\u001b[1;32m    890\u001b[0m                 \u001b[0mobj\u001b[0m\u001b[0;34m,\u001b[0m\u001b[0;34m\u001b[0m\u001b[0;34m\u001b[0m\u001b[0m\n\u001b[1;32m    891\u001b[0m                 \u001b[0mkeys\u001b[0m\u001b[0;34m,\u001b[0m\u001b[0;34m\u001b[0m\u001b[0;34m\u001b[0m\u001b[0m\n",
            "\u001b[0;32m/usr/local/lib/python3.8/dist-packages/pandas/core/groupby/grouper.py\u001b[0m in \u001b[0;36mget_grouper\u001b[0;34m(obj, key, axis, level, sort, observed, mutated, validate, dropna)\u001b[0m\n\u001b[1;32m    860\u001b[0m                 \u001b[0min_axis\u001b[0m\u001b[0;34m,\u001b[0m \u001b[0mlevel\u001b[0m\u001b[0;34m,\u001b[0m \u001b[0mgpr\u001b[0m \u001b[0;34m=\u001b[0m \u001b[0;32mFalse\u001b[0m\u001b[0;34m,\u001b[0m \u001b[0mgpr\u001b[0m\u001b[0;34m,\u001b[0m \u001b[0;32mNone\u001b[0m\u001b[0;34m\u001b[0m\u001b[0;34m\u001b[0m\u001b[0m\n\u001b[1;32m    861\u001b[0m             \u001b[0;32melse\u001b[0m\u001b[0;34m:\u001b[0m\u001b[0;34m\u001b[0m\u001b[0;34m\u001b[0m\u001b[0m\n\u001b[0;32m--> 862\u001b[0;31m                 \u001b[0;32mraise\u001b[0m \u001b[0mKeyError\u001b[0m\u001b[0;34m(\u001b[0m\u001b[0mgpr\u001b[0m\u001b[0;34m)\u001b[0m\u001b[0;34m\u001b[0m\u001b[0;34m\u001b[0m\u001b[0m\n\u001b[0m\u001b[1;32m    863\u001b[0m         \u001b[0;32melif\u001b[0m \u001b[0misinstance\u001b[0m\u001b[0;34m(\u001b[0m\u001b[0mgpr\u001b[0m\u001b[0;34m,\u001b[0m \u001b[0mGrouper\u001b[0m\u001b[0;34m)\u001b[0m \u001b[0;32mand\u001b[0m \u001b[0mgpr\u001b[0m\u001b[0;34m.\u001b[0m\u001b[0mkey\u001b[0m \u001b[0;32mis\u001b[0m \u001b[0;32mnot\u001b[0m \u001b[0;32mNone\u001b[0m\u001b[0;34m:\u001b[0m\u001b[0;34m\u001b[0m\u001b[0;34m\u001b[0m\u001b[0m\n\u001b[1;32m    864\u001b[0m             \u001b[0;31m# Add key to exclusions\u001b[0m\u001b[0;34m\u001b[0m\u001b[0;34m\u001b[0m\u001b[0;34m\u001b[0m\u001b[0m\n",
            "\u001b[0;31mKeyError\u001b[0m: 'period_number'"
          ]
        }
      ]
    },
    {
      "cell_type": "code",
      "source": [
        "cohort_size_n = df_users_pivot_n.sum(axis=1)\n",
        "retention_n = df_users_pivot_n.div(cohort_size_n, axis = 0)"
      ],
      "metadata": {
        "id": "LumN4H4CVJ-e"
      },
      "execution_count": null,
      "outputs": []
    },
    {
      "cell_type": "code",
      "source": [
        "sales_2016 = df_users_pivot_sales.iloc[12+12:12+12+11, :12]\n",
        "base_sales_2016=sales_2016.iloc[:,0]\n",
        "retention_sales_2016 = sales_2016.div(base_sales_2016, axis = 0)"
      ],
      "metadata": {
        "id": "0AmqXjmgUmUd"
      },
      "execution_count": 175,
      "outputs": []
    },
    {
      "cell_type": "code",
      "source": [
        "sales_2017 = df_users_pivot_sales.iloc[12+12+11:12+12+12+12, :12]\n",
        "base_sales_2017=sales_2017.iloc[:,0]\n",
        "retention_sales_2017 = sales_2017.div(base_sales_2017, axis = 0)"
      ],
      "metadata": {
        "id": "rFbAz9L0VtKH"
      },
      "execution_count": 176,
      "outputs": []
    },
    {
      "cell_type": "code",
      "source": [
        "retention_sales_2016"
      ],
      "metadata": {
        "colab": {
          "base_uri": "https://localhost:8080/",
          "height": 421
        },
        "id": "q9tpmTeVU5B8",
        "outputId": "a6dc16d7-6ca0-459f-f928-22aba8bcc97f"
      },
      "execution_count": 177,
      "outputs": [
        {
          "output_type": "execute_result",
          "data": {
            "text/plain": [
              "period_number   0         1          2         3         4         5   \\\n",
              "first_order                                                             \n",
              "201601         1.0  0.218531        NaN  0.014558       NaN  0.008271   \n",
              "201602         1.0       NaN   1.891543       NaN       NaN       NaN   \n",
              "201603         1.0       NaN   3.691797       NaN  0.164859       NaN   \n",
              "201604         1.0  0.040636        NaN  0.103116  0.042646  0.321080   \n",
              "201605         1.0       NaN   0.250093  0.129575  0.001744  0.008012   \n",
              "201606         1.0  0.502826   2.145873  0.239481  0.030234  0.822022   \n",
              "201607         1.0       NaN        NaN       NaN       NaN       NaN   \n",
              "201608         1.0       NaN        NaN       NaN       NaN  0.624534   \n",
              "201610         1.0       NaN  20.410758       NaN       NaN       NaN   \n",
              "201611         1.0       NaN   2.343436       NaN  0.506159  0.418320   \n",
              "201612         1.0       NaN        NaN       NaN       NaN       NaN   \n",
              "\n",
              "period_number        6         7          8         9         10        11  \n",
              "first_order                                                                 \n",
              "201601         0.007332  0.032950        NaN  0.008652  0.025529  0.044854  \n",
              "201602              NaN       NaN  35.444955  1.313166       NaN  5.770368  \n",
              "201603         0.103889  0.170551   0.103954  0.299546  0.704617  0.174636  \n",
              "201604              NaN  0.008928        NaN  0.168894       NaN  4.948938  \n",
              "201605         0.235403  0.055689   0.172719  0.022908  0.038521  0.058344  \n",
              "201606         0.006198  1.166255        NaN  0.045057       NaN       NaN  \n",
              "201607              NaN       NaN        NaN  0.018134       NaN       NaN  \n",
              "201608              NaN  0.046205   0.167169  0.455075  0.044171       NaN  \n",
              "201610              NaN       NaN        NaN       NaN  0.236145  0.017767  \n",
              "201611              NaN       NaN        NaN  0.455714       NaN  0.707517  \n",
              "201612              NaN       NaN        NaN       NaN  0.009228       NaN  "
            ],
            "text/html": [
              "\n",
              "  <div id=\"df-890d4838-626d-4b4f-8dba-23c1088b38cf\">\n",
              "    <div class=\"colab-df-container\">\n",
              "      <div>\n",
              "<style scoped>\n",
              "    .dataframe tbody tr th:only-of-type {\n",
              "        vertical-align: middle;\n",
              "    }\n",
              "\n",
              "    .dataframe tbody tr th {\n",
              "        vertical-align: top;\n",
              "    }\n",
              "\n",
              "    .dataframe thead th {\n",
              "        text-align: right;\n",
              "    }\n",
              "</style>\n",
              "<table border=\"1\" class=\"dataframe\">\n",
              "  <thead>\n",
              "    <tr style=\"text-align: right;\">\n",
              "      <th>period_number</th>\n",
              "      <th>0</th>\n",
              "      <th>1</th>\n",
              "      <th>2</th>\n",
              "      <th>3</th>\n",
              "      <th>4</th>\n",
              "      <th>5</th>\n",
              "      <th>6</th>\n",
              "      <th>7</th>\n",
              "      <th>8</th>\n",
              "      <th>9</th>\n",
              "      <th>10</th>\n",
              "      <th>11</th>\n",
              "    </tr>\n",
              "    <tr>\n",
              "      <th>first_order</th>\n",
              "      <th></th>\n",
              "      <th></th>\n",
              "      <th></th>\n",
              "      <th></th>\n",
              "      <th></th>\n",
              "      <th></th>\n",
              "      <th></th>\n",
              "      <th></th>\n",
              "      <th></th>\n",
              "      <th></th>\n",
              "      <th></th>\n",
              "      <th></th>\n",
              "    </tr>\n",
              "  </thead>\n",
              "  <tbody>\n",
              "    <tr>\n",
              "      <th>201601</th>\n",
              "      <td>1.0</td>\n",
              "      <td>0.218531</td>\n",
              "      <td>NaN</td>\n",
              "      <td>0.014558</td>\n",
              "      <td>NaN</td>\n",
              "      <td>0.008271</td>\n",
              "      <td>0.007332</td>\n",
              "      <td>0.032950</td>\n",
              "      <td>NaN</td>\n",
              "      <td>0.008652</td>\n",
              "      <td>0.025529</td>\n",
              "      <td>0.044854</td>\n",
              "    </tr>\n",
              "    <tr>\n",
              "      <th>201602</th>\n",
              "      <td>1.0</td>\n",
              "      <td>NaN</td>\n",
              "      <td>1.891543</td>\n",
              "      <td>NaN</td>\n",
              "      <td>NaN</td>\n",
              "      <td>NaN</td>\n",
              "      <td>NaN</td>\n",
              "      <td>NaN</td>\n",
              "      <td>35.444955</td>\n",
              "      <td>1.313166</td>\n",
              "      <td>NaN</td>\n",
              "      <td>5.770368</td>\n",
              "    </tr>\n",
              "    <tr>\n",
              "      <th>201603</th>\n",
              "      <td>1.0</td>\n",
              "      <td>NaN</td>\n",
              "      <td>3.691797</td>\n",
              "      <td>NaN</td>\n",
              "      <td>0.164859</td>\n",
              "      <td>NaN</td>\n",
              "      <td>0.103889</td>\n",
              "      <td>0.170551</td>\n",
              "      <td>0.103954</td>\n",
              "      <td>0.299546</td>\n",
              "      <td>0.704617</td>\n",
              "      <td>0.174636</td>\n",
              "    </tr>\n",
              "    <tr>\n",
              "      <th>201604</th>\n",
              "      <td>1.0</td>\n",
              "      <td>0.040636</td>\n",
              "      <td>NaN</td>\n",
              "      <td>0.103116</td>\n",
              "      <td>0.042646</td>\n",
              "      <td>0.321080</td>\n",
              "      <td>NaN</td>\n",
              "      <td>0.008928</td>\n",
              "      <td>NaN</td>\n",
              "      <td>0.168894</td>\n",
              "      <td>NaN</td>\n",
              "      <td>4.948938</td>\n",
              "    </tr>\n",
              "    <tr>\n",
              "      <th>201605</th>\n",
              "      <td>1.0</td>\n",
              "      <td>NaN</td>\n",
              "      <td>0.250093</td>\n",
              "      <td>0.129575</td>\n",
              "      <td>0.001744</td>\n",
              "      <td>0.008012</td>\n",
              "      <td>0.235403</td>\n",
              "      <td>0.055689</td>\n",
              "      <td>0.172719</td>\n",
              "      <td>0.022908</td>\n",
              "      <td>0.038521</td>\n",
              "      <td>0.058344</td>\n",
              "    </tr>\n",
              "    <tr>\n",
              "      <th>201606</th>\n",
              "      <td>1.0</td>\n",
              "      <td>0.502826</td>\n",
              "      <td>2.145873</td>\n",
              "      <td>0.239481</td>\n",
              "      <td>0.030234</td>\n",
              "      <td>0.822022</td>\n",
              "      <td>0.006198</td>\n",
              "      <td>1.166255</td>\n",
              "      <td>NaN</td>\n",
              "      <td>0.045057</td>\n",
              "      <td>NaN</td>\n",
              "      <td>NaN</td>\n",
              "    </tr>\n",
              "    <tr>\n",
              "      <th>201607</th>\n",
              "      <td>1.0</td>\n",
              "      <td>NaN</td>\n",
              "      <td>NaN</td>\n",
              "      <td>NaN</td>\n",
              "      <td>NaN</td>\n",
              "      <td>NaN</td>\n",
              "      <td>NaN</td>\n",
              "      <td>NaN</td>\n",
              "      <td>NaN</td>\n",
              "      <td>0.018134</td>\n",
              "      <td>NaN</td>\n",
              "      <td>NaN</td>\n",
              "    </tr>\n",
              "    <tr>\n",
              "      <th>201608</th>\n",
              "      <td>1.0</td>\n",
              "      <td>NaN</td>\n",
              "      <td>NaN</td>\n",
              "      <td>NaN</td>\n",
              "      <td>NaN</td>\n",
              "      <td>0.624534</td>\n",
              "      <td>NaN</td>\n",
              "      <td>0.046205</td>\n",
              "      <td>0.167169</td>\n",
              "      <td>0.455075</td>\n",
              "      <td>0.044171</td>\n",
              "      <td>NaN</td>\n",
              "    </tr>\n",
              "    <tr>\n",
              "      <th>201610</th>\n",
              "      <td>1.0</td>\n",
              "      <td>NaN</td>\n",
              "      <td>20.410758</td>\n",
              "      <td>NaN</td>\n",
              "      <td>NaN</td>\n",
              "      <td>NaN</td>\n",
              "      <td>NaN</td>\n",
              "      <td>NaN</td>\n",
              "      <td>NaN</td>\n",
              "      <td>NaN</td>\n",
              "      <td>0.236145</td>\n",
              "      <td>0.017767</td>\n",
              "    </tr>\n",
              "    <tr>\n",
              "      <th>201611</th>\n",
              "      <td>1.0</td>\n",
              "      <td>NaN</td>\n",
              "      <td>2.343436</td>\n",
              "      <td>NaN</td>\n",
              "      <td>0.506159</td>\n",
              "      <td>0.418320</td>\n",
              "      <td>NaN</td>\n",
              "      <td>NaN</td>\n",
              "      <td>NaN</td>\n",
              "      <td>0.455714</td>\n",
              "      <td>NaN</td>\n",
              "      <td>0.707517</td>\n",
              "    </tr>\n",
              "    <tr>\n",
              "      <th>201612</th>\n",
              "      <td>1.0</td>\n",
              "      <td>NaN</td>\n",
              "      <td>NaN</td>\n",
              "      <td>NaN</td>\n",
              "      <td>NaN</td>\n",
              "      <td>NaN</td>\n",
              "      <td>NaN</td>\n",
              "      <td>NaN</td>\n",
              "      <td>NaN</td>\n",
              "      <td>NaN</td>\n",
              "      <td>0.009228</td>\n",
              "      <td>NaN</td>\n",
              "    </tr>\n",
              "  </tbody>\n",
              "</table>\n",
              "</div>\n",
              "      <button class=\"colab-df-convert\" onclick=\"convertToInteractive('df-890d4838-626d-4b4f-8dba-23c1088b38cf')\"\n",
              "              title=\"Convert this dataframe to an interactive table.\"\n",
              "              style=\"display:none;\">\n",
              "        \n",
              "  <svg xmlns=\"http://www.w3.org/2000/svg\" height=\"24px\"viewBox=\"0 0 24 24\"\n",
              "       width=\"24px\">\n",
              "    <path d=\"M0 0h24v24H0V0z\" fill=\"none\"/>\n",
              "    <path d=\"M18.56 5.44l.94 2.06.94-2.06 2.06-.94-2.06-.94-.94-2.06-.94 2.06-2.06.94zm-11 1L8.5 8.5l.94-2.06 2.06-.94-2.06-.94L8.5 2.5l-.94 2.06-2.06.94zm10 10l.94 2.06.94-2.06 2.06-.94-2.06-.94-.94-2.06-.94 2.06-2.06.94z\"/><path d=\"M17.41 7.96l-1.37-1.37c-.4-.4-.92-.59-1.43-.59-.52 0-1.04.2-1.43.59L10.3 9.45l-7.72 7.72c-.78.78-.78 2.05 0 2.83L4 21.41c.39.39.9.59 1.41.59.51 0 1.02-.2 1.41-.59l7.78-7.78 2.81-2.81c.8-.78.8-2.07 0-2.86zM5.41 20L4 18.59l7.72-7.72 1.47 1.35L5.41 20z\"/>\n",
              "  </svg>\n",
              "      </button>\n",
              "      \n",
              "  <style>\n",
              "    .colab-df-container {\n",
              "      display:flex;\n",
              "      flex-wrap:wrap;\n",
              "      gap: 12px;\n",
              "    }\n",
              "\n",
              "    .colab-df-convert {\n",
              "      background-color: #E8F0FE;\n",
              "      border: none;\n",
              "      border-radius: 50%;\n",
              "      cursor: pointer;\n",
              "      display: none;\n",
              "      fill: #1967D2;\n",
              "      height: 32px;\n",
              "      padding: 0 0 0 0;\n",
              "      width: 32px;\n",
              "    }\n",
              "\n",
              "    .colab-df-convert:hover {\n",
              "      background-color: #E2EBFA;\n",
              "      box-shadow: 0px 1px 2px rgba(60, 64, 67, 0.3), 0px 1px 3px 1px rgba(60, 64, 67, 0.15);\n",
              "      fill: #174EA6;\n",
              "    }\n",
              "\n",
              "    [theme=dark] .colab-df-convert {\n",
              "      background-color: #3B4455;\n",
              "      fill: #D2E3FC;\n",
              "    }\n",
              "\n",
              "    [theme=dark] .colab-df-convert:hover {\n",
              "      background-color: #434B5C;\n",
              "      box-shadow: 0px 1px 3px 1px rgba(0, 0, 0, 0.15);\n",
              "      filter: drop-shadow(0px 1px 2px rgba(0, 0, 0, 0.3));\n",
              "      fill: #FFFFFF;\n",
              "    }\n",
              "  </style>\n",
              "\n",
              "      <script>\n",
              "        const buttonEl =\n",
              "          document.querySelector('#df-890d4838-626d-4b4f-8dba-23c1088b38cf button.colab-df-convert');\n",
              "        buttonEl.style.display =\n",
              "          google.colab.kernel.accessAllowed ? 'block' : 'none';\n",
              "\n",
              "        async function convertToInteractive(key) {\n",
              "          const element = document.querySelector('#df-890d4838-626d-4b4f-8dba-23c1088b38cf');\n",
              "          const dataTable =\n",
              "            await google.colab.kernel.invokeFunction('convertToInteractive',\n",
              "                                                     [key], {});\n",
              "          if (!dataTable) return;\n",
              "\n",
              "          const docLinkHtml = 'Like what you see? Visit the ' +\n",
              "            '<a target=\"_blank\" href=https://colab.research.google.com/notebooks/data_table.ipynb>data table notebook</a>'\n",
              "            + ' to learn more about interactive tables.';\n",
              "          element.innerHTML = '';\n",
              "          dataTable['output_type'] = 'display_data';\n",
              "          await google.colab.output.renderOutput(dataTable, element);\n",
              "          const docLink = document.createElement('div');\n",
              "          docLink.innerHTML = docLinkHtml;\n",
              "          element.appendChild(docLink);\n",
              "        }\n",
              "      </script>\n",
              "    </div>\n",
              "  </div>\n",
              "  "
            ]
          },
          "metadata": {},
          "execution_count": 177
        }
      ]
    },
    {
      "cell_type": "code",
      "source": [
        "retention_sales_2017"
      ],
      "metadata": {
        "colab": {
          "base_uri": "https://localhost:8080/",
          "height": 297
        },
        "id": "hpNb3QVlV39p",
        "outputId": "0bc84d48-3803-433e-9200-f33c40c12f49"
      },
      "execution_count": 178,
      "outputs": [
        {
          "output_type": "execute_result",
          "data": {
            "text/plain": [
              "period_number   0   1   2         3         4         5         6         7   \\\n",
              "first_order                                                                    \n",
              "201703         1.0 NaN NaN  0.013133  1.152067  0.432962       NaN  1.391345   \n",
              "201704         1.0 NaN NaN       NaN       NaN       NaN       NaN       NaN   \n",
              "201706         1.0 NaN NaN       NaN       NaN       NaN  1.372686       NaN   \n",
              "201707         1.0 NaN NaN       NaN       NaN  0.174213       NaN       NaN   \n",
              "201709         1.0 NaN NaN       NaN       NaN       NaN       NaN       NaN   \n",
              "201710         1.0 NaN NaN       NaN       NaN       NaN       NaN       NaN   \n",
              "201711         1.0 NaN NaN       NaN       NaN       NaN       NaN       NaN   \n",
              "\n",
              "period_number  8   9   10  11  \n",
              "first_order                    \n",
              "201703        NaN NaN NaN NaN  \n",
              "201704        NaN NaN NaN NaN  \n",
              "201706        NaN NaN NaN NaN  \n",
              "201707        NaN NaN NaN NaN  \n",
              "201709        NaN NaN NaN NaN  \n",
              "201710        NaN NaN NaN NaN  \n",
              "201711        NaN NaN NaN NaN  "
            ],
            "text/html": [
              "\n",
              "  <div id=\"df-c732b2af-c5c3-4a61-8a1d-360c00cad5d8\">\n",
              "    <div class=\"colab-df-container\">\n",
              "      <div>\n",
              "<style scoped>\n",
              "    .dataframe tbody tr th:only-of-type {\n",
              "        vertical-align: middle;\n",
              "    }\n",
              "\n",
              "    .dataframe tbody tr th {\n",
              "        vertical-align: top;\n",
              "    }\n",
              "\n",
              "    .dataframe thead th {\n",
              "        text-align: right;\n",
              "    }\n",
              "</style>\n",
              "<table border=\"1\" class=\"dataframe\">\n",
              "  <thead>\n",
              "    <tr style=\"text-align: right;\">\n",
              "      <th>period_number</th>\n",
              "      <th>0</th>\n",
              "      <th>1</th>\n",
              "      <th>2</th>\n",
              "      <th>3</th>\n",
              "      <th>4</th>\n",
              "      <th>5</th>\n",
              "      <th>6</th>\n",
              "      <th>7</th>\n",
              "      <th>8</th>\n",
              "      <th>9</th>\n",
              "      <th>10</th>\n",
              "      <th>11</th>\n",
              "    </tr>\n",
              "    <tr>\n",
              "      <th>first_order</th>\n",
              "      <th></th>\n",
              "      <th></th>\n",
              "      <th></th>\n",
              "      <th></th>\n",
              "      <th></th>\n",
              "      <th></th>\n",
              "      <th></th>\n",
              "      <th></th>\n",
              "      <th></th>\n",
              "      <th></th>\n",
              "      <th></th>\n",
              "      <th></th>\n",
              "    </tr>\n",
              "  </thead>\n",
              "  <tbody>\n",
              "    <tr>\n",
              "      <th>201703</th>\n",
              "      <td>1.0</td>\n",
              "      <td>NaN</td>\n",
              "      <td>NaN</td>\n",
              "      <td>0.013133</td>\n",
              "      <td>1.152067</td>\n",
              "      <td>0.432962</td>\n",
              "      <td>NaN</td>\n",
              "      <td>1.391345</td>\n",
              "      <td>NaN</td>\n",
              "      <td>NaN</td>\n",
              "      <td>NaN</td>\n",
              "      <td>NaN</td>\n",
              "    </tr>\n",
              "    <tr>\n",
              "      <th>201704</th>\n",
              "      <td>1.0</td>\n",
              "      <td>NaN</td>\n",
              "      <td>NaN</td>\n",
              "      <td>NaN</td>\n",
              "      <td>NaN</td>\n",
              "      <td>NaN</td>\n",
              "      <td>NaN</td>\n",
              "      <td>NaN</td>\n",
              "      <td>NaN</td>\n",
              "      <td>NaN</td>\n",
              "      <td>NaN</td>\n",
              "      <td>NaN</td>\n",
              "    </tr>\n",
              "    <tr>\n",
              "      <th>201706</th>\n",
              "      <td>1.0</td>\n",
              "      <td>NaN</td>\n",
              "      <td>NaN</td>\n",
              "      <td>NaN</td>\n",
              "      <td>NaN</td>\n",
              "      <td>NaN</td>\n",
              "      <td>1.372686</td>\n",
              "      <td>NaN</td>\n",
              "      <td>NaN</td>\n",
              "      <td>NaN</td>\n",
              "      <td>NaN</td>\n",
              "      <td>NaN</td>\n",
              "    </tr>\n",
              "    <tr>\n",
              "      <th>201707</th>\n",
              "      <td>1.0</td>\n",
              "      <td>NaN</td>\n",
              "      <td>NaN</td>\n",
              "      <td>NaN</td>\n",
              "      <td>NaN</td>\n",
              "      <td>0.174213</td>\n",
              "      <td>NaN</td>\n",
              "      <td>NaN</td>\n",
              "      <td>NaN</td>\n",
              "      <td>NaN</td>\n",
              "      <td>NaN</td>\n",
              "      <td>NaN</td>\n",
              "    </tr>\n",
              "    <tr>\n",
              "      <th>201709</th>\n",
              "      <td>1.0</td>\n",
              "      <td>NaN</td>\n",
              "      <td>NaN</td>\n",
              "      <td>NaN</td>\n",
              "      <td>NaN</td>\n",
              "      <td>NaN</td>\n",
              "      <td>NaN</td>\n",
              "      <td>NaN</td>\n",
              "      <td>NaN</td>\n",
              "      <td>NaN</td>\n",
              "      <td>NaN</td>\n",
              "      <td>NaN</td>\n",
              "    </tr>\n",
              "    <tr>\n",
              "      <th>201710</th>\n",
              "      <td>1.0</td>\n",
              "      <td>NaN</td>\n",
              "      <td>NaN</td>\n",
              "      <td>NaN</td>\n",
              "      <td>NaN</td>\n",
              "      <td>NaN</td>\n",
              "      <td>NaN</td>\n",
              "      <td>NaN</td>\n",
              "      <td>NaN</td>\n",
              "      <td>NaN</td>\n",
              "      <td>NaN</td>\n",
              "      <td>NaN</td>\n",
              "    </tr>\n",
              "    <tr>\n",
              "      <th>201711</th>\n",
              "      <td>1.0</td>\n",
              "      <td>NaN</td>\n",
              "      <td>NaN</td>\n",
              "      <td>NaN</td>\n",
              "      <td>NaN</td>\n",
              "      <td>NaN</td>\n",
              "      <td>NaN</td>\n",
              "      <td>NaN</td>\n",
              "      <td>NaN</td>\n",
              "      <td>NaN</td>\n",
              "      <td>NaN</td>\n",
              "      <td>NaN</td>\n",
              "    </tr>\n",
              "  </tbody>\n",
              "</table>\n",
              "</div>\n",
              "      <button class=\"colab-df-convert\" onclick=\"convertToInteractive('df-c732b2af-c5c3-4a61-8a1d-360c00cad5d8')\"\n",
              "              title=\"Convert this dataframe to an interactive table.\"\n",
              "              style=\"display:none;\">\n",
              "        \n",
              "  <svg xmlns=\"http://www.w3.org/2000/svg\" height=\"24px\"viewBox=\"0 0 24 24\"\n",
              "       width=\"24px\">\n",
              "    <path d=\"M0 0h24v24H0V0z\" fill=\"none\"/>\n",
              "    <path d=\"M18.56 5.44l.94 2.06.94-2.06 2.06-.94-2.06-.94-.94-2.06-.94 2.06-2.06.94zm-11 1L8.5 8.5l.94-2.06 2.06-.94-2.06-.94L8.5 2.5l-.94 2.06-2.06.94zm10 10l.94 2.06.94-2.06 2.06-.94-2.06-.94-.94-2.06-.94 2.06-2.06.94z\"/><path d=\"M17.41 7.96l-1.37-1.37c-.4-.4-.92-.59-1.43-.59-.52 0-1.04.2-1.43.59L10.3 9.45l-7.72 7.72c-.78.78-.78 2.05 0 2.83L4 21.41c.39.39.9.59 1.41.59.51 0 1.02-.2 1.41-.59l7.78-7.78 2.81-2.81c.8-.78.8-2.07 0-2.86zM5.41 20L4 18.59l7.72-7.72 1.47 1.35L5.41 20z\"/>\n",
              "  </svg>\n",
              "      </button>\n",
              "      \n",
              "  <style>\n",
              "    .colab-df-container {\n",
              "      display:flex;\n",
              "      flex-wrap:wrap;\n",
              "      gap: 12px;\n",
              "    }\n",
              "\n",
              "    .colab-df-convert {\n",
              "      background-color: #E8F0FE;\n",
              "      border: none;\n",
              "      border-radius: 50%;\n",
              "      cursor: pointer;\n",
              "      display: none;\n",
              "      fill: #1967D2;\n",
              "      height: 32px;\n",
              "      padding: 0 0 0 0;\n",
              "      width: 32px;\n",
              "    }\n",
              "\n",
              "    .colab-df-convert:hover {\n",
              "      background-color: #E2EBFA;\n",
              "      box-shadow: 0px 1px 2px rgba(60, 64, 67, 0.3), 0px 1px 3px 1px rgba(60, 64, 67, 0.15);\n",
              "      fill: #174EA6;\n",
              "    }\n",
              "\n",
              "    [theme=dark] .colab-df-convert {\n",
              "      background-color: #3B4455;\n",
              "      fill: #D2E3FC;\n",
              "    }\n",
              "\n",
              "    [theme=dark] .colab-df-convert:hover {\n",
              "      background-color: #434B5C;\n",
              "      box-shadow: 0px 1px 3px 1px rgba(0, 0, 0, 0.15);\n",
              "      filter: drop-shadow(0px 1px 2px rgba(0, 0, 0, 0.3));\n",
              "      fill: #FFFFFF;\n",
              "    }\n",
              "  </style>\n",
              "\n",
              "      <script>\n",
              "        const buttonEl =\n",
              "          document.querySelector('#df-c732b2af-c5c3-4a61-8a1d-360c00cad5d8 button.colab-df-convert');\n",
              "        buttonEl.style.display =\n",
              "          google.colab.kernel.accessAllowed ? 'block' : 'none';\n",
              "\n",
              "        async function convertToInteractive(key) {\n",
              "          const element = document.querySelector('#df-c732b2af-c5c3-4a61-8a1d-360c00cad5d8');\n",
              "          const dataTable =\n",
              "            await google.colab.kernel.invokeFunction('convertToInteractive',\n",
              "                                                     [key], {});\n",
              "          if (!dataTable) return;\n",
              "\n",
              "          const docLinkHtml = 'Like what you see? Visit the ' +\n",
              "            '<a target=\"_blank\" href=https://colab.research.google.com/notebooks/data_table.ipynb>data table notebook</a>'\n",
              "            + ' to learn more about interactive tables.';\n",
              "          element.innerHTML = '';\n",
              "          dataTable['output_type'] = 'display_data';\n",
              "          await google.colab.output.renderOutput(dataTable, element);\n",
              "          const docLink = document.createElement('div');\n",
              "          docLink.innerHTML = docLinkHtml;\n",
              "          element.appendChild(docLink);\n",
              "        }\n",
              "      </script>\n",
              "    </div>\n",
              "  </div>\n",
              "  "
            ]
          },
          "metadata": {},
          "execution_count": 178
        }
      ]
    },
    {
      "cell_type": "markdown",
      "metadata": {
        "id": "VBPgEZPEZRCg"
      },
      "source": [
        "## Ответ\n",
        "#### 1. Суммарно продажи и число новых покупателей ниже в 2017 году ниже, чем в 2016: продажи упали на 86%, пророст покапателей -- на 81% (Retention Years)\n",
        "#### 2. Также ретеншен в 2016 году лучше, чем в 2017: в 2017 году ретеншен не нулевой только для некоторых месяце (трех), а в 2016 повротные покупки новых пользователей наблюдались почти в каждом месяце.\n",
        "\n"
      ]
    },
    {
      "cell_type": "code",
      "execution_count": null,
      "metadata": {
        "id": "g8FvkS8kZRCh"
      },
      "outputs": [],
      "source": []
    }
  ],
  "metadata": {
    "kernelspec": {
      "display_name": "Python 3",
      "language": "python",
      "name": "python3"
    },
    "language_info": {
      "codemirror_mode": {
        "name": "ipython",
        "version": 3
      },
      "file_extension": ".py",
      "mimetype": "text/x-python",
      "name": "python",
      "nbconvert_exporter": "python",
      "pygments_lexer": "ipython3",
      "version": "3.8.6"
    },
    "colab": {
      "provenance": [],
      "collapsed_sections": [
        "bav7Px1IZRCN"
      ]
    }
  },
  "nbformat": 4,
  "nbformat_minor": 0
}
